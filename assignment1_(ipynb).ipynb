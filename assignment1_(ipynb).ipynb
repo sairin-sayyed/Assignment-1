{
  "nbformat": 4,
  "nbformat_minor": 0,
  "metadata": {
    "colab": {
      "name": "assignment1.(ipynb)",
      "provenance": [],
      "collapsed_sections": []
    },
    "kernelspec": {
      "name": "python3",
      "display_name": "Python 3"
    }
  },
  "cells": [
    {
      "cell_type": "markdown",
      "metadata": {
        "id": "wspBA330tmXR"
      },
      "source": [
        "**ASSIGNMENT 1**"
      ]
    },
    {
      "cell_type": "markdown",
      "metadata": {
        "id": "rkroAJcFsQPO"
      },
      "source": [
        "QUESTION 1\n",
        "\n",
        "Given the following jumbled word, OBANWRI guess the correct English word.\n",
        "\n",
        "A. RANIBOW\n",
        "B. RAINBOW\n",
        "C. BOWRANI\n",
        "D. ROBWANI\n",
        "\n",
        "answer: B. RAINBOW"
      ]
    },
    {
      "cell_type": "markdown",
      "metadata": {
        "id": "t77m1RG8sa5O"
      },
      "source": [
        "QUESTION 2\n",
        "\n",
        "Write a program which prints “LETS UPGRADE”. (Please note that you have to\n",
        "print in ALL CAPS as given)"
      ]
    },
    {
      "cell_type": "code",
      "metadata": {
        "id": "zU6G6WboswQt",
        "outputId": "bf2f2a70-789f-458e-f29e-c4a851a80d8e",
        "colab": {
          "base_uri": "https://localhost:8080/"
        }
      },
      "source": [
        "print(\"LETS UPGRADE\")"
      ],
      "execution_count": null,
      "outputs": [
        {
          "output_type": "stream",
          "text": [
            "LETS UPGRADE\n"
          ],
          "name": "stdout"
        }
      ]
    },
    {
      "cell_type": "markdown",
      "metadata": {
        "id": "pkxewhxmsz-N"
      },
      "source": [
        "QUESTION 3\n",
        "\n",
        "Write a program that takes cost price and selling price as input and displays whether the transaction is a\n",
        "Profit or a Loss or Neither.\n",
        "INPUT FORMAT\n",
        "The first line contains the cost price.\n",
        "The second line contains the selling price.\n",
        "OUTPUT FORMAT\n",
        "Print \"Profit\" if the transaction is a profit or \"Loss\" if it is a loss. If it is neither\n",
        "profit nor loss, print \"Neither\". (You must not have quotes in your output)"
      ]
    },
    {
      "cell_type": "code",
      "metadata": {
        "id": "xkFpKpsUs9ps",
        "outputId": "f71b9d1e-ad2f-467e-d4a9-0cc010c9f784",
        "colab": {
          "base_uri": "https://localhost:8080/"
        }
      },
      "source": [
        "a=5000\n",
        "b=3000\n",
        "a= \"cost price\"\n",
        "b= \"selling price\"\n",
        "if (b>a):\n",
        "  print(\"profit\")\n",
        "else:\n",
        "  print(\"loss\")\n"
      ],
      "execution_count": null,
      "outputs": [
        {
          "output_type": "stream",
          "text": [
            "profit\n"
          ],
          "name": "stdout"
        }
      ]
    },
    {
      "cell_type": "markdown",
      "metadata": {
        "id": "f624YAXbtEx-"
      },
      "source": [
        "QUESTION 4\n",
        "\n",
        "Write a program that takes an amount in Euros as input. You need to find its equivalent in\n",
        "Rupees and display it. Assume 1 Euro equals Rs. 80.\n",
        "Please note that you are expected to stick to the given input and output\n",
        "format as in sample test cases. Please don't add any extra lines such as\n",
        "'Enter a number', etc.\n",
        "Your program should take only one number as input and display the output."
      ]
    },
    {
      "cell_type": "code",
      "metadata": {
        "id": "-0ohy3_stLaR",
        "outputId": "d5012e8b-5d7a-45ed-d751-19316d4b44e3",
        "colab": {
          "base_uri": "https://localhost:8080/"
        }
      },
      "source": [
        "x = 88.19\n",
        "y = x*20\n",
        "a='Euro'\n",
        "b ='Indian Rs'\n",
        "print ( \"20\", a,\"are\", y,b)"
      ],
      "execution_count": null,
      "outputs": [
        {
          "output_type": "stream",
          "text": [
            "20 Euro are 1763.8 Indian Rs\n"
          ],
          "name": "stdout"
        }
      ]
    }
  ]
}